{
 "cells": [
  {
   "cell_type": "code",
   "execution_count": null,
   "id": "a90dfcdc",
   "metadata": {},
   "outputs": [
    {
     "name": "stderr",
     "output_type": "stream",
     "text": [
      "Warning message:\n",
      "“dependencies ‘MASS’, ‘Matrix’ are not available”\n",
      "also installing the dependencies ‘fs’, ‘pkgbuild’, ‘rprojroot’, ‘diffobj’, ‘rematch2’, ‘fastmap’, ‘rappdirs’, ‘brio’, ‘callr’, ‘desc’, ‘digest’, ‘evaluate’, ‘pkgload’, ‘praise’, ‘processx’, ‘ps’, ‘waldo’, ‘cachem’, ‘memoise’, ‘mime’, ‘sass’, ‘testthat’, ‘highr’, ‘xfun’, ‘bslib’, ‘fontawesome’, ‘tinytex’, ‘colorspace’, ‘SparseM’, ‘MatrixModels’, ‘survival’, ‘boot’, ‘minqa’, ‘nloptr’, ‘RcppEigen’, ‘htmltools’, ‘knitr’, ‘rmarkdown’, ‘yaml’, ‘later’, ‘lazyeval’, ‘backports’, ‘nlme’, ‘farver’, ‘labeling’, ‘munsell’, ‘R6’, ‘RColorBrewer’, ‘viridisLite’, ‘pillar’, ‘pkgconfig’, ‘carData’, ‘nnet’, ‘pbkrtest’, ‘quantreg’, ‘lme4’, ‘htmlwidgets’, ‘httpuv’, ‘crosstalk’, ‘jquerylib’, ‘promises’, ‘estimability’, ‘numDeriv’, ‘mvtnorm’, ‘generics’, ‘broom’, ‘corrplot’, ‘stringi’, ‘gtable’, ‘isoband’, ‘mgcv’, ‘scales’, ‘tibble’, ‘vctrs’, ‘withr’, ‘magrittr’, ‘viridis’, ‘car’, ‘DT’, ‘ellipse’, ‘emmeans’, ‘flashClust’, ‘lattice’, ‘leaps’, ‘multcompView’, ‘scatterplot3d’, ‘ggsci’, ‘purrr’, ‘dplyr’, ‘cowplot’, ‘ggsignif’, ‘gridExtra’, ‘polynom’, ‘rstatix’, ‘plyr’, ‘Rcpp’, ‘stringr’, ‘cli’, ‘lifecycle’, ‘tidyselect’, ‘cpp11’, ‘ggplot2’, ‘abind’, ‘cluster’, ‘dendextend’, ‘FactoMineR’, ‘ggpubr’, ‘reshape2’, ‘ggrepel’, ‘tidyr’\n",
      "\n",
      "\n"
     ]
    }
   ],
   "source": [
    "install.packages(\"factoextra\")"
   ]
  },
  {
   "cell_type": "code",
   "execution_count": null,
   "id": "2e411e02",
   "metadata": {},
   "outputs": [],
   "source": [
    "library(ggplot2)"
   ]
  },
  {
   "cell_type": "code",
   "execution_count": null,
   "id": "450dbc43",
   "metadata": {},
   "outputs": [],
   "source": [
    "mpg_df<-read.csv(\"../data/Electric_Vehicle_Population_Data.csv\")\n",
    "head(mpg_df)"
   ]
  },
  {
   "cell_type": "code",
   "execution_count": null,
   "id": "ff7611b4",
   "metadata": {},
   "outputs": [],
   "source": []
  }
 ],
 "metadata": {
  "kernelspec": {
   "display_name": "R",
   "language": "R",
   "name": "ir"
  },
  "language_info": {
   "codemirror_mode": "r",
   "file_extension": ".r",
   "mimetype": "text/x-r-source",
   "name": "R",
   "pygments_lexer": "r",
   "version": "4.2.0"
  }
 },
 "nbformat": 4,
 "nbformat_minor": 5
}
